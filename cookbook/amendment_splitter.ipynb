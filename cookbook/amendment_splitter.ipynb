{
 "cells": [
  {
   "cell_type": "code",
   "execution_count": 1,
   "id": "fd9b5a44",
   "metadata": {},
   "outputs": [],
   "source": [
    "from puku_core.graphs.knowledge_trees.nodes.markdown import MarkdownNode\n",
    "from puku_core.graphs.knowledge_trees.edges.markdown import MarkdownEdge\n",
    "from puku_core.documents.markdown import parse\n",
    "\n",
    "from puku.graphs.knowledge_trees.writers.chat_model import ChatModelAmendmentSplitter"
   ]
  },
  {
   "cell_type": "code",
   "execution_count": 2,
   "id": "eb8d4b3f",
   "metadata": {},
   "outputs": [],
   "source": [
    "root = MarkdownNode(\n",
    "    data=parse(\n",
    "        \"\"\"\n",
    "Duonychus (meaning \"two claws\") is an extinct genus of therizinosaurid theropod dinosaurs that lived during the Late Cretaceous (Cenomanian to early Coniacian age) of what is now Mongolia. It is known from a partial skeleton, including several vertebrae, most of the forelimbs, and part of the pelvic girdle, found in outcrops of the Bayanshiree Formation. The remains were discovered in 2012 by the Mongolian Academy of Sciences and briefly mentioned in later conference abstracts. The genus contains a single species, Duonychus tsogtbaatari, which was formally described in 2025.\n",
    "\n",
    "The hand of Duonychus only has two fingers, similar to tyrannosaurids, compared to the three commonly found in most theropods. This anatomical feature—in addition to its long, strongly curved claws—may have allowed Duonychus to efficiently grasp plant material to consume. The geological formation from which Duonychus is known has also yielded the therizinosaurs Enigmosaurus, Erlikosaurus, and Segnosaurus, in addition to many other dinosaurs.                         \"\"\"\n",
    "    ),\n",
    "    title=\"Duonychus\",\n",
    "    description=\"Main information about Duonychus\",\n",
    ")"
   ]
  },
  {
   "cell_type": "code",
   "execution_count": 3,
   "id": "630f8d5b",
   "metadata": {},
   "outputs": [],
   "source": [
    "descr = MarkdownNode(\n",
    "    data=parse(\n",
    "        \"\"\"\n",
    "The Duonychus holotype belongs to an immature individual with an estimated body mass of approximately 260 kilograms (570 lb), similar in size to Erlikosaurus, which is around 278 kilograms (613 lb). In comparison, the other coeval Enigmosaurus and Segnosaurus were larger, at 567 kilograms (1,250 lb) and 1,469 kilograms (3,239 lb), respectively.[1] Although no estimate of body length was given in the academic description of the taxon in 2025, the accompanying press release noted that the animal would have reached approximately 3 metres (9.8 ft) long.[4]\n",
    "    \"\"\"\n",
    "    ),\n",
    "    title=\"description\",\n",
    "    description=\"How does it look\",\n",
    ")"
   ]
  },
  {
   "cell_type": "code",
   "execution_count": 4,
   "id": "efb7cbab",
   "metadata": {},
   "outputs": [],
   "source": [
    "discovery = MarkdownNode(\n",
    "    data=parse(\n",
    "        \"\"\"\n",
    "In 2012, the Institute of Paleontology (Mongolian Academy of Sciences) was involved in the construction of a water pipeline in the eastern Gobi Desert of southeastern Mongolia. Part of this work was conducted near Khanbogd town in Ömnögovi Province. One particular outcrop representing the Bayanshiree Formation ('Urlibe Khudak' locality) yielded the fossil skeleton of a therizinosaurid dinosaur. The excavation of the specimen, led by Idersaikhan Damdinsuren and Ganzorig Bayasgaa with the assistance of other Mongolians, occurred under limited time constraints, restricting the amount of material that could be collected. Furthermore, the specimen was found at the base of a fluvial sandstone bed with pebbles; this high-energy depositional environment, representing a channel lag deposit, also contributed to the incompleteness of the skeleton\n",
    "    \"\"\"\n",
    "    ),\n",
    "    title=\"Discovery\",\n",
    "    description=\"Discovery and naming\",\n",
    ")"
   ]
  },
  {
   "cell_type": "code",
   "execution_count": 5,
   "id": "38b36735",
   "metadata": {},
   "outputs": [],
   "source": [
    "root.children = [MarkdownEdge(child=descr), MarkdownEdge(child=discovery)]"
   ]
  },
  {
   "cell_type": "markdown",
   "id": "79cd031d",
   "metadata": {},
   "source": [
    "# Splitting"
   ]
  },
  {
   "cell_type": "code",
   "execution_count": 6,
   "id": "f39f593b",
   "metadata": {},
   "outputs": [],
   "source": [
    "from langchain_deepseek import ChatDeepSeek\n",
    "from langchain_core.prompts.chat import ChatPromptTemplate\n",
    "\n",
    "from puku_core.graphs.knowledge_trees.types import MarkdownUpdateRequest\n",
    "from puku_core.documents.markdown import parse, render"
   ]
  },
  {
   "cell_type": "code",
   "execution_count": 7,
   "id": "e9a9581e",
   "metadata": {},
   "outputs": [
    {
     "data": {
      "text/plain": [
       "True"
      ]
     },
     "execution_count": 7,
     "metadata": {},
     "output_type": "execute_result"
    }
   ],
   "source": [
    "from dotenv import load_dotenv\n",
    "\n",
    "load_dotenv()  # Loads from .env file"
   ]
  },
  {
   "cell_type": "code",
   "execution_count": 8,
   "id": "29e2e95e",
   "metadata": {},
   "outputs": [],
   "source": [
    "prompt = ChatPromptTemplate.from_messages(\n",
    "    messages=[\n",
    "        (\n",
    "            \"system\",\n",
    "            \"\"\"You are the best knowledge splitter. You have an article and a few sub-articles. \\\n",
    "                Your task is to split new knowledge between article itself and its edges. For that, you are given of edges description and article itself.\n",
    "                \"\"\",\n",
    "        ),\n",
    "        (\n",
    "            \"user\",\n",
    "            \"\"\"Article: {node}\n",
    "\n",
    "Edges (or subarticles): each have unique id:\n",
    "{edges_description}\n",
    "\n",
    "Amendment to be splitted:\n",
    "{amendment}\n",
    "\"\"\",\n",
    "        ),\n",
    "    ]\n",
    ")"
   ]
  },
  {
   "cell_type": "code",
   "execution_count": 9,
   "id": "32eedcf5",
   "metadata": {},
   "outputs": [],
   "source": [
    "splitter = ChatModelAmendmentSplitter(\n",
    "    prompt=prompt, chat_model=ChatDeepSeek(model=\"deepseek-chat\")\n",
    ")"
   ]
  },
  {
   "cell_type": "code",
   "execution_count": 10,
   "id": "d3bd2367",
   "metadata": {},
   "outputs": [],
   "source": [
    "amendment = \"\"\"\n",
    "Prior to its formal description, the fossil material was first reported in two Society of Vertebrate Paleontology conference abstracts in 2015 and 2024.[2][3]\n",
    "\n",
    "In 2025, Yoshitsugu Kobayashi, Darla Zelenitsky, Anthony Fiorillo, and Tsogtbaatar Chinzorig coauthored a scientific paper in the academic journal iScience. Herein the authors described Duonychus tsogtbaatari as a new genus and species of therizinosaurs, establishing this specimen (MPC-D 100/85) as the holotype. The generic name, Duonychus, combines the Latin word duo, meaning \"two\" with the Ancient Greek ὄνυξ (ónux), meaning \"claw\", in reference to the two-fingered hand of the taxon. The specific name, tsogtbaatari, honors Mongolian paleontologist Khishigjav Tsogtbaatar, a former director of the Institute of Paleontology.[1][4]\n",
    "\"\"\""
   ]
  },
  {
   "cell_type": "code",
   "execution_count": 11,
   "id": "4bb5677c",
   "metadata": {},
   "outputs": [],
   "source": [
    "update_request = MarkdownUpdateRequest(node=root, amendment=parse(amendment))"
   ]
  },
  {
   "cell_type": "code",
   "execution_count": 12,
   "id": "da7e3807",
   "metadata": {},
   "outputs": [],
   "source": [
    "split = splitter.invoke(update_request)"
   ]
  },
  {
   "cell_type": "code",
   "execution_count": 13,
   "id": "6c7ff22f",
   "metadata": {},
   "outputs": [],
   "source": [
    "# print(render(list(split.children.values())[1]))"
   ]
  },
  {
   "cell_type": "markdown",
   "id": "5a13f374",
   "metadata": {},
   "source": [
    "# Visualizing"
   ]
  },
  {
   "cell_type": "code",
   "execution_count": 14,
   "id": "51293534",
   "metadata": {},
   "outputs": [],
   "source": [
    "from puku.documents.obsidian import dump_knowledge_tree"
   ]
  },
  {
   "cell_type": "code",
   "execution_count": null,
   "id": "ccc24e17",
   "metadata": {},
   "outputs": [],
   "source": [
    "# dump_knowledge_tree(node=root, path=\"/home/curlinkw/workspace/obsidian_vaults/test\")"
   ]
  },
  {
   "cell_type": "code",
   "execution_count": null,
   "id": "b1de1022",
   "metadata": {},
   "outputs": [],
   "source": []
  }
 ],
 "metadata": {
  "kernelspec": {
   "display_name": ".venv",
   "language": "python",
   "name": "python3"
  },
  "language_info": {
   "codemirror_mode": {
    "name": "ipython",
    "version": 3
   },
   "file_extension": ".py",
   "mimetype": "text/x-python",
   "name": "python",
   "nbconvert_exporter": "python",
   "pygments_lexer": "ipython3",
   "version": "3.12.3"
  }
 },
 "nbformat": 4,
 "nbformat_minor": 5
}
