{
 "cells": [
  {
   "cell_type": "code",
   "execution_count": 1,
   "id": "fd9b5a44",
   "metadata": {},
   "outputs": [],
   "source": [
    "from puku_core.graphs.knowledge_trees.nodes.markdown import MarkdownNode\n",
    "from puku_core.graphs.knowledge_trees.edges.markdown import MarkdownEdge\n",
    "from puku_core.documents.markdown import parse\n",
    "\n",
    "from puku.graphs.knowledge_trees.writers.chat_model import ChatModelAmendmentSplitter"
   ]
  },
  {
   "cell_type": "code",
   "execution_count": 2,
   "id": "eb8d4b3f",
   "metadata": {},
   "outputs": [],
   "source": [
    "root = MarkdownNode(\n",
    "    data=parse(\n",
    "        \"\"\"\n",
    "Duonychus (meaning \"two claws\") is an extinct genus of therizinosaurid theropod dinosaurs that lived during the Late Cretaceous (Cenomanian to early Coniacian age) of what is now Mongolia. It is known from a partial skeleton, including several vertebrae, most of the forelimbs, and part of the pelvic girdle, found in outcrops of the Bayanshiree Formation. The remains were discovered in 2012 by the Mongolian Academy of Sciences and briefly mentioned in later conference abstracts. The genus contains a single species, Duonychus tsogtbaatari, which was formally described in 2025.\n",
    "\n",
    "The hand of Duonychus only has two fingers, similar to tyrannosaurids, compared to the three commonly found in most theropods. This anatomical feature—in addition to its long, strongly curved claws—may have allowed Duonychus to efficiently grasp plant material to consume. The geological formation from which Duonychus is known has also yielded the therizinosaurs Enigmosaurus, Erlikosaurus, and Segnosaurus, in addition to many other dinosaurs.                         \"\"\"\n",
    "    ),\n",
    "    title=\"Duonychus\",\n",
    "    description=\"Main information about Duonychus\",\n",
    ")"
   ]
  },
  {
   "cell_type": "code",
   "execution_count": 3,
   "id": "630f8d5b",
   "metadata": {},
   "outputs": [],
   "source": [
    "descr = MarkdownNode(\n",
    "    data=parse(\n",
    "        \"\"\"\n",
    "The Duonychus holotype belongs to an immature individual with an estimated body mass of approximately 260 kilograms (570 lb), similar in size to Erlikosaurus, which is around 278 kilograms (613 lb). In comparison, the other coeval Enigmosaurus and Segnosaurus were larger, at 567 kilograms (1,250 lb) and 1,469 kilograms (3,239 lb), respectively.[1] Although no estimate of body length was given in the academic description of the taxon in 2025, the accompanying press release noted that the animal would have reached approximately 3 metres (9.8 ft) long.[4]\n",
    "    \"\"\"\n",
    "    ),\n",
    "    title=\"description\",\n",
    "    description=\"How does it look\",\n",
    ")"
   ]
  },
  {
   "cell_type": "code",
   "execution_count": 4,
   "id": "efb7cbab",
   "metadata": {},
   "outputs": [],
   "source": [
    "discovery = MarkdownNode(\n",
    "    data=parse(\n",
    "        \"\"\"\n",
    "In 2012, the Institute of Paleontology (Mongolian Academy of Sciences) was involved in the construction of a water pipeline in the eastern Gobi Desert of southeastern Mongolia. Part of this work was conducted near Khanbogd town in Ömnögovi Province. One particular outcrop representing the Bayanshiree Formation ('Urlibe Khudak' locality) yielded the fossil skeleton of a therizinosaurid dinosaur. The excavation of the specimen, led by Idersaikhan Damdinsuren and Ganzorig Bayasgaa with the assistance of other Mongolians, occurred under limited time constraints, restricting the amount of material that could be collected. Furthermore, the specimen was found at the base of a fluvial sandstone bed with pebbles; this high-energy depositional environment, representing a channel lag deposit, also contributed to the incompleteness of the skeleton\n",
    "    \"\"\"\n",
    "    ),\n",
    "    title=\"Discovery\",\n",
    "    description=\"Discovery and naming\",\n",
    ")"
   ]
  },
  {
   "cell_type": "code",
   "execution_count": 5,
   "id": "38b36735",
   "metadata": {},
   "outputs": [],
   "source": [
    "root.children = [MarkdownEdge(child=descr), MarkdownEdge(child=discovery)]"
   ]
  },
  {
   "cell_type": "code",
   "execution_count": 6,
   "id": "32eedcf5",
   "metadata": {},
   "outputs": [
    {
     "name": "stdout",
     "output_type": "stream",
     "text": [
      "[description]: edge \"689654547144814428\"\n",
      "How does it look\n",
      "\n",
      "[Discovery]: edge \"174022040192645511\"\n",
      "Discovery and naming\n",
      "\n",
      "\n"
     ]
    }
   ],
   "source": [
    "print(ChatModelAmendmentSplitter.edges_description(root))"
   ]
  },
  {
   "cell_type": "code",
   "execution_count": null,
   "id": "5b9a5236",
   "metadata": {},
   "outputs": [],
   "source": []
  },
  {
   "cell_type": "code",
   "execution_count": null,
   "id": "a8ae77c1",
   "metadata": {},
   "outputs": [],
   "source": []
  }
 ],
 "metadata": {
  "kernelspec": {
   "display_name": ".venv",
   "language": "python",
   "name": "python3"
  },
  "language_info": {
   "codemirror_mode": {
    "name": "ipython",
    "version": 3
   },
   "file_extension": ".py",
   "mimetype": "text/x-python",
   "name": "python",
   "nbconvert_exporter": "python",
   "pygments_lexer": "ipython3",
   "version": "3.12.3"
  }
 },
 "nbformat": 4,
 "nbformat_minor": 5
}
